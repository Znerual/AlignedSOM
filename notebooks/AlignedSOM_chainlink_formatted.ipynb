{
 "cells": [
  {
   "cell_type": "markdown",
   "id": "a3179495",
   "metadata": {},
   "source": [
    "# Aligned SOMs Evaluation on Chainlink Dataset\n",
    "\n",
    "**Authors:**   \n",
    "Markus Kiesel (01228952)   \n",
    "Alexander Melem(11809621)   \n",
    "Laurenz Ruzicka (01619916)   "
   ]
  },
  {
   "cell_type": "code",
   "execution_count": 5,
   "id": "efe7dec2",
   "metadata": {},
   "outputs": [],
   "source": [
    "import os, sys\n",
    "import numpy as np\n",
    "\n",
    "module_path = os.path.abspath(os.path.join('..'))\n",
    "if module_path not in sys.path:\n",
    "  sys.path.append(module_path)\n",
    "\n",
    "from src.data import load_dataset\n",
    "from src.config import config\n",
    "from src.aligned_som import AlignedSom\n",
    "from src.visualize import plot_aligned_som\n",
    "\n",
    "DATASET_NAME = 'chainlink'"
   ]
  },
  {
   "cell_type": "code",
   "execution_count": 6,
   "id": "6ed4a7bb",
   "metadata": {},
   "outputs": [],
   "source": [
    "def setup(som_dim, num_layers, aspect_selection,\n",
    "          sigma=1.0,\n",
    "          learning_rate=0.5,\n",
    "          layer_distance_ratio=0.1,\n",
    "          num_plots=5,\n",
    "          train_steps_by_layer=1000,\n",
    "          random_seed=config.SEED,\n",
    "          load_existing=True):\n",
    "\n",
    "    input_data, components, weights, classinfo = load_dataset(DATASET_NAME)\n",
    "    data = input_data['arr']\n",
    "    aspect_selection = np.array(aspect_selection)\n",
    "   \n",
    "    asom = AlignedSom(\n",
    "        som_dim, data, aspect_selection,\n",
    "        num_layers=num_layers,\n",
    "        sigma=sigma,\n",
    "        learning_rate=learning_rate,\n",
    "        layer_distance_ratio=layer_distance_ratio,\n",
    "        random_seed=random_seed)\n",
    "    \n",
    "    os.makedirs(\"../results\", exist_ok=True)\n",
    "    if load_existing and os.path.exists(f\"../results/chainlink_setup_{som_dim[0]}_{som_dim[1]}_{num_layers}_{sigma}_{layer_distance_ratio}_{learning_rate}_{'-'.join([str(c) for c in concept_indices])}.npy\"):\n",
    "        asom.set_layer_weights(np.load(f\"../results/chainlink_setup_{som_dim[0]}_{som_dim[1]}_{N_LAYERS}_{sigma}_{layer_distance_ratio}_{learning_rate}_{'-'.join([str(c) for c in concept_indices])}.npy\"))\n",
    "    else:\n",
    "        asom.train(data, TRAIN_STEPS * N_LAYERS)\n",
    "        np.save(f\"../results/chainlink_setup_{SOM_DIM[0]}_{som_dim[1]}_{num_layers}_{sigma}_{layer_distance_ratio}_{learning_rate}_{'-'.join([str(c) for c in concept_indices])}.npy\", np.array(asom.get_layer_weights()))\n",
    "    \n",
    "    fig = plot_aligned_som(asom, data, num_plots=num_plots, upscaling_factor=100)\n",
    "    fig.savefig(f\"../results/chainlink_setup_{SOM_DIM[0]}_{som_dim[1]}_{num_layers}_{sigma}_{layer_distance_ratio}_{learning_rate}_{'-'.join([str(c) for c in concept_indices])}.pdf\")\n",
    "    \n",
    "    return asom"
   ]
  },
  {
   "cell_type": "markdown",
   "id": "07767b66",
   "metadata": {},
   "source": [
    "# Dataset\n",
    "\n",
    "## todo: small description of dataset"
   ]
  },
  {
   "cell_type": "code",
   "execution_count": 7,
   "id": "f315c754",
   "metadata": {},
   "outputs": [
    {
     "data": {
      "text/plain": [
       "(850, 10)"
      ]
     },
     "execution_count": 7,
     "metadata": {},
     "output_type": "execute_result"
    }
   ],
   "source": [
    "input_data, components, weights, classinfo = load_dataset('10clusters')\n",
    "data = input_data['arr']\n",
    "data.shape"
   ]
  },
  {
   "cell_type": "markdown",
   "id": "f5231fdf",
   "metadata": {},
   "source": [
    "## Alignd SOMs on Chainlink 10x10"
   ]
  },
  {
   "cell_type": "code",
   "execution_count": 8,
   "id": "74247f2d",
   "metadata": {},
   "outputs": [],
   "source": [
    "SOM_DIM = (10, 10)\n",
    "N_LAYERS = 31\n",
    "ASPECT_SELECTION = [1, 1, 0]"
   ]
  },
  {
   "cell_type": "markdown",
   "id": "14ad0266",
   "metadata": {},
   "source": [
    "### Default Setup"
   ]
  },
  {
   "cell_type": "code",
   "execution_count": null,
   "id": "bd85073a",
   "metadata": {},
   "outputs": [],
   "source": [
    "asom_small_1 = setup(\n",
    "    som_dim=SOM_DIM,\n",
    "    num_layers=N_LAYERS,\n",
    "    aspect_selection=ASPECT_SELECTION)"
   ]
  },
  {
   "cell_type": "markdown",
   "id": "a8b453fc",
   "metadata": {},
   "source": [
    "### Many In-Between Layers"
   ]
  },
  {
   "cell_type": "code",
   "execution_count": null,
   "id": "76b9e643",
   "metadata": {},
   "outputs": [],
   "source": [
    "som_small_2 = setup(\n",
    "    som_dim=SOM_DIM,\n",
    "    num_layers=128,\n",
    "    aspect_selection=ASPECT_SELECTION)"
   ]
  },
  {
   "cell_type": "markdown",
   "id": "d1ab8f13",
   "metadata": {},
   "source": [
    "### Strong Layer-Wise Coupling"
   ]
  },
  {
   "cell_type": "code",
   "execution_count": null,
   "id": "19f3d57f",
   "metadata": {},
   "outputs": [],
   "source": [
    "asom_small_3 = setup(\n",
    "    som_dim=SOM_DIM,\n",
    "    num_layers=N_LAYERS,\n",
    "    aspect_selection=ASPECT_SELECTION,\n",
    "    layer_distance_ratio=10)"
   ]
  },
  {
   "cell_type": "markdown",
   "id": "f1f2f471",
   "metadata": {},
   "source": [
    "### Weak Layer-Wise Coupling"
   ]
  },
  {
   "cell_type": "code",
   "execution_count": null,
   "id": "06f585c7",
   "metadata": {},
   "outputs": [],
   "source": [
    "asom_small_4 = setup(\n",
    "    som_dim=SOM_DIM,\n",
    "    num_layers=N_LAYERS,\n",
    "    aspect_selection=ASPECT_SELECTION,\n",
    "    layer_distance_ratio=1e-3)"
   ]
  },
  {
   "cell_type": "markdown",
   "id": "89fb1fc4",
   "metadata": {},
   "source": [
    "### Few In-Between Layers"
   ]
  },
  {
   "cell_type": "code",
   "execution_count": null,
   "id": "ac4c857c",
   "metadata": {},
   "outputs": [],
   "source": [
    "asom_small_5 = setup(\n",
    "    som_dim=SOM_DIM,\n",
    "    num_layers=6,\n",
    "    aspect_selection=ASPECT_SELECTION)"
   ]
  },
  {
   "cell_type": "markdown",
   "id": "70850291",
   "metadata": {},
   "source": [
    "### Switch Aspect Indices"
   ]
  },
  {
   "cell_type": "code",
   "execution_count": null,
   "id": "f63cb2d0",
   "metadata": {},
   "outputs": [],
   "source": [
    "asom_small_6 = setup(\n",
    "    som_dim=SOM_DIM,\n",
    "    num_layers=6,\n",
    "    aspect_selection=[0, 0, 1])"
   ]
  },
  {
   "cell_type": "markdown",
   "id": "95a4df73",
   "metadata": {},
   "source": [
    "### Only Aspect A"
   ]
  },
  {
   "cell_type": "code",
   "execution_count": null,
   "id": "74d94bd1",
   "metadata": {},
   "outputs": [],
   "source": [
    "asom_small_7 = setup(\n",
    "    som_dim=SOM_DIM,\n",
    "    num_layers=6,\n",
    "    aspect_selection=[0, 0, 0])"
   ]
  },
  {
   "cell_type": "markdown",
   "id": "8d735867",
   "metadata": {},
   "source": [
    "### Only Aspect  B"
   ]
  },
  {
   "cell_type": "code",
   "execution_count": null,
   "id": "1d457c40",
   "metadata": {},
   "outputs": [],
   "source": [
    "asom_small_8 = setup(\n",
    "    som_dim=SOM_DIM,\n",
    "    num_layers=6,\n",
    "    aspect_selection=[1, 1, 1])"
   ]
  },
  {
   "cell_type": "markdown",
   "id": "017a6db4-fca6-4b63-8c04-e916134c8534",
   "metadata": {},
   "source": [
    "## Alignd SOMs on Chainlink 100x60 "
   ]
  },
  {
   "cell_type": "code",
   "execution_count": null,
   "id": "4f15f7d3",
   "metadata": {},
   "outputs": [],
   "source": [
    "SOM_DIM = (100, 60)\n",
    "N_LAYERS = 31\n",
    "ASPECT_SELECTION = [1, 1, 0]"
   ]
  },
  {
   "cell_type": "code",
   "execution_count": null,
   "id": "8a26fa21",
   "metadata": {},
   "outputs": [],
   "source": [
    "### Default Setup"
   ]
  },
  {
   "cell_type": "code",
   "execution_count": null,
   "id": "dafd1170",
   "metadata": {},
   "outputs": [],
   "source": [
    "asom_large_1 = setup(\n",
    "    som_dim=SOM_DIM,\n",
    "    num_layers=N_LAYERS,\n",
    "    aspect_selection=ASPECT_SELECTION)"
   ]
  },
  {
   "cell_type": "code",
   "execution_count": null,
   "id": "6d7655bc",
   "metadata": {},
   "outputs": [],
   "source": [
    "### Many In-Between Layers"
   ]
  },
  {
   "cell_type": "code",
   "execution_count": null,
   "id": "116cc084",
   "metadata": {},
   "outputs": [],
   "source": [
    "asom_large_2 = setup(\n",
    "    som_dim=SOM_DIM,\n",
    "    num_layers=128,\n",
    "    aspect_selection=ASPECT_SELECTION)"
   ]
  },
  {
   "cell_type": "code",
   "execution_count": null,
   "id": "87aa5e7f",
   "metadata": {},
   "outputs": [],
   "source": [
    "### Strong Layer-Wise Coupling"
   ]
  },
  {
   "cell_type": "code",
   "execution_count": null,
   "id": "680491c4",
   "metadata": {},
   "outputs": [],
   "source": [
    "asom_large_3 = setup(\n",
    "    som_dim=SOM_DIM,\n",
    "    num_layers=N_LAYERS,\n",
    "    aspect_selection=ASPECT_SELECTION,\n",
    "    layer_distance_ratio=10)\n"
   ]
  },
  {
   "cell_type": "code",
   "execution_count": null,
   "id": "e749c1be",
   "metadata": {},
   "outputs": [],
   "source": [
    "### Weak Layer-Wise Coupling"
   ]
  },
  {
   "cell_type": "code",
   "execution_count": null,
   "id": "b9d5c6b7",
   "metadata": {},
   "outputs": [],
   "source": [
    "asom_large_4 = setup(\n",
    "    som_dim=SOM_DIM,\n",
    "    num_layers=N_LAYERS,\n",
    "    aspect_selection=ASPECT_SELECTION,\n",
    "    layer_distance_ratio=1e-3)"
   ]
  },
  {
   "cell_type": "code",
   "execution_count": null,
   "id": "7fa5c74f",
   "metadata": {},
   "outputs": [],
   "source": [
    "### Few In-Between Layers"
   ]
  },
  {
   "cell_type": "code",
   "execution_count": null,
   "id": "a9ea3073",
   "metadata": {},
   "outputs": [],
   "source": [
    "asom_large_5 = setup(\n",
    "    som_dim=SOM_DIM,\n",
    "    num_layers=N_LAYERS,\n",
    "    aspect_selection=ASPECT_SELECTION,\n",
    "    num_layers=6)"
   ]
  },
  {
   "cell_type": "markdown",
   "id": "25ba8374",
   "metadata": {},
   "source": [
    "### Switch Aspect Indices"
   ]
  },
  {
   "cell_type": "code",
   "execution_count": null,
   "id": "6db5dcac",
   "metadata": {},
   "outputs": [],
   "source": [
    "asom_large_6 = setup(\n",
    "    som_dim=SOM_DIM,\n",
    "    num_layers=N_LAYERS,\n",
    "    aspect_selection=[0, 0, 0, 0, 0, 0, 0, 1, 1, 1])"
   ]
  },
  {
   "cell_type": "markdown",
   "id": "702e0e83",
   "metadata": {},
   "source": [
    "### Only Aspect A"
   ]
  },
  {
   "cell_type": "code",
   "execution_count": null,
   "id": "70d85520",
   "metadata": {},
   "outputs": [],
   "source": [
    "asom_large_7 = setup(\n",
    "    som_dim=SOM_DIM,\n",
    "    num_layers=N_LAYERS,\n",
    "    aspect_selection=[0, 0, 0, 0, 0, 0, 0, 0, 0, 0])"
   ]
  },
  {
   "cell_type": "markdown",
   "id": "00fc175c",
   "metadata": {},
   "source": [
    "### Only Aspect  B"
   ]
  },
  {
   "cell_type": "code",
   "execution_count": null,
   "id": "02715a16",
   "metadata": {},
   "outputs": [],
   "source": [
    "asom_large_8 = setup(\n",
    "    som_dim=SOM_DIM,\n",
    "    num_layers=N_LAYERS,\n",
    "    aspect_selection=[1, 1, 1, 1, 1, 1, 1, 1, 1, 1])"
   ]
  }
 ],
 "metadata": {
  "kernelspec": {
   "display_name": "Python 3 (ipykernel)",
   "language": "python",
   "name": "python3"
  },
  "language_info": {
   "codemirror_mode": {
    "name": "ipython",
    "version": 3
   },
   "file_extension": ".py",
   "mimetype": "text/x-python",
   "name": "python",
   "nbconvert_exporter": "python",
   "pygments_lexer": "ipython3",
   "version": "3.9.2"
  },
  "vscode": {
   "interpreter": {
    "hash": "dfd0c7e95e2101a5731fc22994b2564359838c2d832b63cc38588ffdd51c5ae8"
   }
  }
 },
 "nbformat": 4,
 "nbformat_minor": 5
}
